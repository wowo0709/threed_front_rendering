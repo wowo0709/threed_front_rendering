{
 "cells": [
  {
   "cell_type": "code",
   "execution_count": 1,
   "metadata": {},
   "outputs": [
    {
     "ename": "AttributeError",
     "evalue": "module 'blenderproc' has no attribute 'init'",
     "output_type": "error",
     "traceback": [
      "\u001b[0;31m---------------------------------------------------------------------------\u001b[0m",
      "\u001b[0;31mAttributeError\u001b[0m                            Traceback (most recent call last)",
      "Cell \u001b[0;32mIn[1], line 12\u001b[0m\n\u001b[1;32m      9\u001b[0m future_folder \u001b[38;5;241m=\u001b[39m \u001b[38;5;124m\"\u001b[39m\u001b[38;5;124m/root/desktop/3D-FRONT/3D-FUTURE-model\u001b[39m\u001b[38;5;124m\"\u001b[39m\n\u001b[1;32m     10\u001b[0m front_3D_texture_path \u001b[38;5;241m=\u001b[39m \u001b[38;5;124m\"\u001b[39m\u001b[38;5;124m/root/desktop/3D-FRONT/3D-FRONT-texture\u001b[39m\u001b[38;5;124m\"\u001b[39m\n\u001b[0;32m---> 12\u001b[0m \u001b[43mbproc\u001b[49m\u001b[38;5;241;43m.\u001b[39;49m\u001b[43minit\u001b[49m()\n\u001b[1;32m     13\u001b[0m mapping_file \u001b[38;5;241m=\u001b[39m bproc\u001b[38;5;241m.\u001b[39mutility\u001b[38;5;241m.\u001b[39mresolve_resource(os\u001b[38;5;241m.\u001b[39mpath\u001b[38;5;241m.\u001b[39mjoin(\u001b[38;5;124m\"\u001b[39m\u001b[38;5;124mfront_3D\u001b[39m\u001b[38;5;124m\"\u001b[39m, \u001b[38;5;124m\"\u001b[39m\u001b[38;5;124m3D_front_mapping.csv\u001b[39m\u001b[38;5;124m\"\u001b[39m))\n\u001b[1;32m     14\u001b[0m mapping \u001b[38;5;241m=\u001b[39m bproc\u001b[38;5;241m.\u001b[39mutility\u001b[38;5;241m.\u001b[39mLabelIdMapping\u001b[38;5;241m.\u001b[39mfrom_csv(mapping_file)\n",
      "\u001b[0;31mAttributeError\u001b[0m: module 'blenderproc' has no attribute 'init'"
     ]
    }
   ],
   "source": [
    "import blenderproc as bproc\n",
    "import argparse\n",
    "import os\n",
    "import numpy as np\n",
    "import random\n",
    "import re\n",
    "\n",
    "front = \"/root/desktop/3D-FRONT/3D-FRONT\"\n",
    "future_folder = \"/root/desktop/3D-FRONT/3D-FUTURE-model\"\n",
    "front_3D_texture_path = \"/root/desktop/3D-FRONT/3D-FRONT-texture\"\n",
    "\n",
    "bproc.init()\n",
    "mapping_file = bproc.utility.resolve_resource(os.path.join(\"front_3D\", \"3D_front_mapping.csv\"))\n",
    "mapping = bproc.utility.LabelIdMapping.from_csv(mapping_file)\n",
    "\n",
    "# load the front 3D objects\n",
    "loaded_objects = bproc.loader.load_front3d(\n",
    "    json_path=front,\n",
    "    future_model_path=future_folder,\n",
    "    front_3D_texture_path=front_3D_texture_path,\n",
    "    label_mapping=mapping\n",
    ")"
   ]
  },
  {
   "cell_type": "code",
   "execution_count": null,
   "metadata": {},
   "outputs": [],
   "source": []
  }
 ],
 "metadata": {
  "kernelspec": {
   "display_name": "3dgs-gen",
   "language": "python",
   "name": "python3"
  },
  "language_info": {
   "codemirror_mode": {
    "name": "ipython",
    "version": 3
   },
   "file_extension": ".py",
   "mimetype": "text/x-python",
   "name": "python",
   "nbconvert_exporter": "python",
   "pygments_lexer": "ipython3",
   "version": "3.8.19"
  }
 },
 "nbformat": 4,
 "nbformat_minor": 2
}
