{
 "cells": [
  {
   "cell_type": "code",
   "execution_count": 1,
   "metadata": {
    "metadata": {}
   },
   "outputs": [
    {
     "name": "stderr",
     "output_type": "stream",
     "text": [
      "/opt/conda/envs/3dgs-gen/lib/python3.8/site-packages/tqdm/auto.py:21: TqdmWarning: IProgress not found. Please update jupyter and ipywidgets. See https://ipywidgets.readthedocs.io/en/stable/user_install.html\n",
      "  from .autonotebook import tqdm as notebook_tqdm\n"
     ]
    }
   ],
   "source": [
    "import numpy as np\n",
    "import os\n",
    "import scripts.create_camera_positions as src\n",
    "import torch"
   ]
  },
  {
   "cell_type": "code",
   "execution_count": 2,
   "metadata": {},
   "outputs": [],
   "source": [
    "in_path = '/root/desktop/3D-FRONT/3D-FRONT-processed/bedrooms_without_lamps/0a9f5311-49e1-414c-ba7b-b42a171459a3_SecondBedroom-18509/boxes.npz'\n",
    "out_path = '/root/desktop/3D-FRONT/3D-FRONT-processed/bedrooms_without_lamps_full_labels/0a9f5311-49e1-414c-ba7b-b42a171459a3_SecondBedroom-18509/boxes.npz'\n",
    "out2 = '/root/desktop/3D-FRONT/3D-FRONT-processed/bedrooms_without_lamps_full_labels/0a25c251-7c80-4808-b609-3d6fbae9efad_MasterBedroom-2888/boxes.npz'"
   ]
  },
  {
   "cell_type": "code",
   "execution_count": 3,
   "metadata": {
    "metadata": {}
   },
   "outputs": [
    {
     "data": {
      "text/plain": [
       "(array([1.85075, 0.     , 2.6979 ]),\n",
       " array([[0.9459485 , 0.50141   , 1.111554  ],\n",
       "        [0.200001  , 0.275     , 0.161057  ],\n",
       "        [0.7798857 , 0.76144236, 0.15001717]], dtype=float32),\n",
       " array([-2.514555,  0.      , -3.238625]))"
      ]
     },
     "execution_count": 3,
     "metadata": {},
     "output_type": "execute_result"
    }
   ],
   "source": [
    "dict = np.load(out_path)\n",
    "dict2 = np.load(out2)\n",
    "dict['camera_coords']\n",
    "dict['floor_plan_centroid'], dict['sizes'], dict2['floor_plan_centroid']"
   ]
  },
  {
   "cell_type": "code",
   "execution_count": 4,
   "metadata": {
    "metadata": {}
   },
   "outputs": [
    {
     "data": {
      "text/plain": [
       "array([[-1.2117646 ,  1.7       , -1.2117646 ],\n",
       "       [-1.0705881 ,  1.7       , -1.2588234 ],\n",
       "       [-1.2352941 ,  1.7       , -1.0705881 ],\n",
       "       [-1.2117646 ,  1.7       , -1.4941175 ],\n",
       "       [-0.8588235 ,  1.7       , -1.2588234 ],\n",
       "       [-0.8823529 ,  1.7       , -1.4235294 ],\n",
       "       [-1.2823529 ,  1.7       , -1.0705881 ],\n",
       "       [-1.3764706 ,  1.7       , -1.4941175 ],\n",
       "       [-1.4470587 ,  1.7       , -1.4470587 ],\n",
       "       [-0.76470584,  1.7       , -1.3999999 ],\n",
       "       [-1.4705882 ,  1.7       , -1.2117646 ],\n",
       "       [-1.3294117 ,  1.7       , -1.4705882 ],\n",
       "       [-1.2588234 ,  1.7       , -1.3058822 ],\n",
       "       [-1.0470588 ,  1.7       , -1.1176469 ],\n",
       "       [-1.0470588 ,  1.7       , -1.0941176 ],\n",
       "       [-0.9058823 ,  1.7       , -1.4470587 ],\n",
       "       [-1.2117646 ,  1.7       , -1.352941  ],\n",
       "       [-1.2823529 ,  1.7       , -1.4470587 ],\n",
       "       [-0.36470568,  1.7       , -1.517647  ],\n",
       "       [-1.2352941 ,  1.7       , -1.517647  ],\n",
       "       [-1.4705882 ,  1.7       , -1.3764706 ],\n",
       "       [-1.4235294 ,  1.7       , -1.1882353 ],\n",
       "       [-1.3058822 ,  1.7       , -1.4235294 ],\n",
       "       [-0.74117625,  1.7       , -1.517647  ],\n",
       "       [-1.2352941 ,  1.7       , -1.3058822 ],\n",
       "       [-1.1882353 ,  1.7       , -1.3764706 ],\n",
       "       [-0.9294117 ,  1.7       , -1.2823529 ],\n",
       "       [-0.97647053,  1.7       , -1.1647058 ],\n",
       "       [-1.1176469 ,  1.7       , -1.2823529 ],\n",
       "       [-1.0941176 ,  1.7       , -1.0235293 ],\n",
       "       [-0.6235292 ,  1.7       , -1.517647  ],\n",
       "       [-0.8588235 ,  1.7       , -1.3999999 ],\n",
       "       [-0.71764684,  1.7       , -1.4941175 ],\n",
       "       [-0.74117625,  1.7       , -1.3999999 ],\n",
       "       [-1.0941176 ,  1.7       , -1.4705882 ],\n",
       "       [-1.3294117 ,  1.7       , -1.0941176 ],\n",
       "       [-1.0705881 ,  1.7       , -1.0941176 ],\n",
       "       [-1.0235293 ,  1.7       , -1.2588234 ],\n",
       "       [-0.6941174 ,  1.7       , -1.3999999 ],\n",
       "       [-0.76470584,  1.7       , -1.517647  ]], dtype=float32)"
      ]
     },
     "execution_count": 4,
     "metadata": {},
     "output_type": "execute_result"
    }
   ],
   "source": [
    "dict['camera_coords']"
   ]
  },
  {
   "cell_type": "code",
   "execution_count": 5,
   "metadata": {},
   "outputs": [
    {
     "data": {
      "text/plain": [
       "array([[-0.4117645 ,  0.8941177 ,  0.31764722],\n",
       "       [ 0.9529413 ,  0.04705883,  0.81176484],\n",
       "       [ 1.0235295 ,  0.47058827, -0.15294099],\n",
       "       [ 1.3529413 ,  0.1254902 ,  0.03529429],\n",
       "       [ 1.0000001 ,  0.454902  ,  0.08235312],\n",
       "       [ 0.5294119 ,  0.7058824 ,  1.2588236 ],\n",
       "       [ 1.0705884 ,  0.92549026,  0.5294119 ],\n",
       "       [ 0.57647073,  0.75294125,  0.57647073],\n",
       "       [-0.4352939 ,  0.92549026,  0.4823531 ],\n",
       "       [ 0.43529427,  0.18823531,  0.01176488],\n",
       "       [ 0.6941178 ,  0.7843138 ,  0.0588237 ],\n",
       "       [-0.19999981,  0.7372549 , -0.6235292 ],\n",
       "       [ 0.6941178 ,  0.6117647 ,  0.31764722],\n",
       "       [-0.01176453,  0.40784317,  1.0941178 ],\n",
       "       [ 0.7411766 ,  0.87843144, -0.31764686],\n",
       "       [-0.22352922,  0.6117647 ,  1.4470589 ],\n",
       "       [-0.31764686,  0.8941177 ,  0.83529425],\n",
       "       [ 1.3058825 ,  0.28235295,  1.3529413 ],\n",
       "       [ 0.9529413 ,  0.6901961 ,  0.5529413 ],\n",
       "       [ 0.764706  ,  0.8000001 ,  1.4941177 ],\n",
       "       [ 0.10588253,  0.43921572, -0.12941158],\n",
       "       [-0.36470568,  0.8470589 , -0.29411745],\n",
       "       [-0.19999981,  0.40784317,  1.0705884 ],\n",
       "       [ 0.5058825 ,  0.8000001 , -0.50588214],\n",
       "       [-0.52941155,  0.86274517, -0.24705863],\n",
       "       [ 1.0705884 ,  0.8470589 , -0.27058804],\n",
       "       [ 0.10588253,  0.47058827, -0.4117645 ],\n",
       "       [ 0.03529429,  0.3921569 , -0.74117625],\n",
       "       [ 0.43529427,  0.17254902,  0.7882354 ],\n",
       "       [-0.48235273,  0.454902  , -0.5764704 ],\n",
       "       [ 1.3294119 ,  0.36078432,  0.36470604],\n",
       "       [ 0.31764722,  1.0039216 ,  1.0705884 ],\n",
       "       [ 0.0588237 ,  0.65882355,  0.5058825 ],\n",
       "       [ 0.41176486,  0.86274517,  1.282353  ],\n",
       "       [ 1.1176472 ,  0.6431373 ,  0.12941194],\n",
       "       [-0.52941155,  0.32941177, -0.15294099],\n",
       "       [ 0.24705899,  0.34509805, -0.34117627],\n",
       "       [ 1.3058825 ,  0.81568635,  0.88235307],\n",
       "       [ 0.08235312,  0.6901961 ,  0.01176488],\n",
       "       [ 0.08235312,  0.5803922 ,  0.5529413 ]], dtype=float32)"
      ]
     },
     "execution_count": 5,
     "metadata": {},
     "output_type": "execute_result"
    }
   ],
   "source": [
    "dict['target_coords']"
   ]
  },
  {
   "cell_type": "code",
   "execution_count": 6,
   "metadata": {
    "metadata": {}
   },
   "outputs": [
    {
     "name": "stdout",
     "output_type": "stream",
     "text": [
      "True\n",
      "11.6\n"
     ]
    }
   ],
   "source": [
    "print(torch.cuda.is_available())\n",
    "print(torch.version.cuda)\n",
    "path_in_labels = in_path\n",
    "max_coords = [6.0, 4.0, 6.0]\n",
    "labels = src.load_labels(path_in_labels, max_coords, beds_only=False)\n"
   ]
  },
  {
   "cell_type": "code",
   "execution_count": 19,
   "metadata": {
    "metadata": {}
   },
   "outputs": [
    {
     "data": {
      "text/plain": [
       "(array([[-1.3999999 ,  1.7       , -0.71764684],\n",
       "        [-1.3999999 ,  1.7       , -0.5999998 ],\n",
       "        [-1.352941  ,  1.7       , -0.670588  ],\n",
       "        [-1.4235294 ,  1.7       , -0.6470586 ],\n",
       "        [-1.3764706 ,  1.7       , -0.6941174 ],\n",
       "        [-1.3764706 ,  1.7       , -0.670588  ],\n",
       "        [-1.352941  ,  1.7       , -0.52941155],\n",
       "        [-1.3999999 ,  1.7       , -0.50588214],\n",
       "        [-1.3764706 ,  1.7       , -0.6470586 ],\n",
       "        [-1.3999999 ,  1.7       , -0.52941155],\n",
       "        [-1.4235294 ,  1.7       , -0.6941174 ],\n",
       "        [-1.3999999 ,  1.7       , -0.6941174 ],\n",
       "        [-1.3764706 ,  1.7       , -0.6235292 ],\n",
       "        [-1.352941  ,  1.7       , -0.6470586 ],\n",
       "        [-1.3764706 ,  1.7       , -0.5999998 ],\n",
       "        [-1.4235294 ,  1.7       , -0.71764684],\n",
       "        [-1.4235294 ,  1.7       , -0.55294096],\n",
       "        [-1.3294117 ,  1.7       , -0.6470586 ],\n",
       "        [-1.352941  ,  1.7       , -0.6235292 ],\n",
       "        [-1.4235294 ,  1.7       , -0.52941155],\n",
       "        [-1.4235294 ,  1.7       , -0.5999998 ],\n",
       "        [-1.4235294 ,  1.7       , -0.74117625],\n",
       "        [-1.3999999 ,  1.7       , -0.6470586 ],\n",
       "        [-1.3999999 ,  1.7       , -0.5764704 ],\n",
       "        [-1.3999999 ,  1.7       , -0.670588  ],\n",
       "        [-1.3764706 ,  1.7       , -0.50588214],\n",
       "        [-1.3764706 ,  1.7       , -0.5764704 ],\n",
       "        [-1.4235294 ,  1.7       , -0.6235292 ],\n",
       "        [-1.352941  ,  1.7       , -0.55294096],\n",
       "        [-1.3294117 ,  1.7       , -0.5999998 ],\n",
       "        [-1.352941  ,  1.7       , -0.5999998 ],\n",
       "        [-1.3764706 ,  1.7       , -0.55294096],\n",
       "        [-1.3294117 ,  1.7       , -0.6235292 ],\n",
       "        [-1.4235294 ,  1.7       , -0.5764704 ],\n",
       "        [-1.4235294 ,  1.7       , -0.670588  ],\n",
       "        [-1.352941  ,  1.7       , -0.5764704 ],\n",
       "        [-1.3764706 ,  1.7       , -0.52941155],\n",
       "        [-1.4235294 ,  1.7       , -0.50588214],\n",
       "        [-1.3999999 ,  1.7       , -0.55294096],\n",
       "        [-1.3999999 ,  1.7       , -0.6235292 ]], dtype=float32),\n",
       " (40, 3))"
      ]
     },
     "execution_count": 19,
     "metadata": {},
     "output_type": "execute_result"
    }
   ],
   "source": [
    "out = '/root/desktop/tmp/00110bde-f580-40be-b8bb-88715b338a2a_Bedroom-43072/boxes.npz'\n",
    "dict_out = np.load(out)\n",
    "dict_out['camera_coords'], dict_out['camera_coords'].shape"
   ]
  },
  {
   "cell_type": "code",
   "execution_count": 20,
   "metadata": {
    "metadata": {}
   },
   "outputs": [
    {
     "data": {
      "text/plain": [
       "array([[0., 0., 0.],\n",
       "       [0., 0., 0.],\n",
       "       [0., 0., 0.],\n",
       "       [0., 0., 0.],\n",
       "       [0., 0., 0.],\n",
       "       [0., 0., 0.],\n",
       "       [0., 0., 0.],\n",
       "       [0., 0., 0.],\n",
       "       [0., 0., 0.],\n",
       "       [0., 0., 0.],\n",
       "       [0., 0., 0.],\n",
       "       [0., 0., 0.],\n",
       "       [0., 0., 0.],\n",
       "       [0., 0., 0.],\n",
       "       [0., 0., 0.],\n",
       "       [0., 0., 0.],\n",
       "       [0., 0., 0.],\n",
       "       [0., 0., 0.],\n",
       "       [0., 0., 0.],\n",
       "       [0., 0., 0.],\n",
       "       [0., 0., 0.],\n",
       "       [0., 0., 0.],\n",
       "       [0., 0., 0.],\n",
       "       [0., 0., 0.],\n",
       "       [0., 0., 0.],\n",
       "       [0., 0., 0.],\n",
       "       [0., 0., 0.],\n",
       "       [0., 0., 0.],\n",
       "       [0., 0., 0.],\n",
       "       [0., 0., 0.],\n",
       "       [0., 0., 0.],\n",
       "       [0., 0., 0.],\n",
       "       [0., 0., 0.],\n",
       "       [0., 0., 0.],\n",
       "       [0., 0., 0.],\n",
       "       [0., 0., 0.],\n",
       "       [0., 0., 0.],\n",
       "       [0., 0., 0.],\n",
       "       [0., 0., 0.],\n",
       "       [0., 0., 0.]], dtype=float32)"
      ]
     },
     "execution_count": 20,
     "metadata": {},
     "output_type": "execute_result"
    }
   ],
   "source": [
    "dict_out['target_coords']"
   ]
  },
  {
   "cell_type": "code",
   "execution_count": 3,
   "metadata": {},
   "outputs": [
    {
     "name": "stderr",
     "output_type": "stream",
     "text": [
      "  0%|          | 0/1 [00:00<?, ?it/s]"
     ]
    },
    {
     "data": {
      "image/png": "[encoded data removed]",
      "text/plain": [
       "<Figure size 640x480 with 1 Axes>"
      ]
     },
     "metadata": {},
     "output_type": "display_data"
    },
    {
     "data": {
      "image/png": "[encoded data removed]",
      "text/plain": [
       "<Figure size 640x480 with 1 Axes>"
      ]
     },
     "metadata": {},
     "output_type": "display_data"
    },
    {
     "data": {
      "image/png": "[encoded data removed]",
      "text/plain": [
       "<Figure size 640x480 with 1 Axes>"
      ]
     },
     "metadata": {},
     "output_type": "display_data"
    },
    {
     "name": "stderr",
     "output_type": "stream",
     "text": [
      "100%|██████████| 1/1 [00:03<00:00,  3.04s/it]"
     ]
    },
    {
     "name": "stdout",
     "output_type": "stream",
     "text": [
      "result tensor([[ 3.6208e+00,  1.7000e+00,  0.0000e+00],\n",
      "        [ 3.5762e+00,  1.7000e+00,  5.6641e-01],\n",
      "        [ 3.4436e+00,  1.7000e+00,  1.1189e+00],\n",
      "        [ 3.2261e+00,  1.7000e+00,  1.6438e+00],\n",
      "        [ 2.9293e+00,  1.7000e+00,  2.1282e+00],\n",
      "        [ 2.5603e+00,  1.7000e+00,  2.5603e+00],\n",
      "        [ 2.1282e+00,  1.7000e+00,  2.9293e+00],\n",
      "        [ 1.6438e+00,  1.7000e+00,  3.2261e+00],\n",
      "        [ 1.1189e+00,  1.7000e+00,  3.4436e+00],\n",
      "        [ 5.6641e-01,  1.7000e+00,  3.5762e+00],\n",
      "        [-1.5827e-07,  1.7000e+00,  3.6208e+00],\n",
      "        [-5.6641e-01,  1.7000e+00,  3.5762e+00],\n",
      "        [-1.1189e+00,  1.7000e+00,  3.4436e+00],\n",
      "        [-1.6438e+00,  1.7000e+00,  3.2261e+00],\n",
      "        [-2.1282e+00,  1.7000e+00,  2.9293e+00],\n",
      "        [-2.5603e+00,  1.7000e+00,  2.5603e+00],\n",
      "        [-2.9293e+00,  1.7000e+00,  2.1282e+00],\n",
      "        [-3.2261e+00,  1.7000e+00,  1.6438e+00],\n",
      "        [-3.4436e+00,  1.7000e+00,  1.1189e+00],\n",
      "        [-3.5762e+00,  1.7000e+00,  5.6641e-01],\n",
      "        [-3.6208e+00,  1.7000e+00, -3.1654e-07],\n",
      "        [-3.5762e+00,  1.7000e+00, -5.6641e-01],\n",
      "        [-3.4436e+00,  1.7000e+00, -1.1189e+00],\n",
      "        [-3.2261e+00,  1.7000e+00, -1.6438e+00],\n",
      "        [-2.9293e+00,  1.7000e+00, -2.1282e+00],\n",
      "        [-2.5603e+00,  1.7000e+00, -2.5603e+00],\n",
      "        [-2.1282e+00,  1.7000e+00, -2.9293e+00],\n",
      "        [-1.6438e+00,  1.7000e+00, -3.2261e+00],\n",
      "        [-1.1189e+00,  1.7000e+00, -3.4436e+00],\n",
      "        [-5.6641e-01,  1.7000e+00, -3.5762e+00],\n",
      "        [ 4.3177e-08,  1.7000e+00, -3.6208e+00],\n",
      "        [ 5.6641e-01,  1.7000e+00, -3.5762e+00],\n",
      "        [ 1.1189e+00,  1.7000e+00, -3.4436e+00],\n",
      "        [ 1.6438e+00,  1.7000e+00, -3.2261e+00],\n",
      "        [ 2.1282e+00,  1.7000e+00, -2.9293e+00],\n",
      "        [ 2.5603e+00,  1.7000e+00, -2.5603e+00],\n",
      "        [ 2.9293e+00,  1.7000e+00, -2.1282e+00],\n",
      "        [ 3.2261e+00,  1.7000e+00, -1.6438e+00],\n",
      "        [ 3.4436e+00,  1.7000e+00, -1.1189e+00],\n",
      "        [ 3.5762e+00,  1.7000e+00, -5.6641e-01]], device='cuda:0')\n"
     ]
    },
    {
     "name": "stderr",
     "output_type": "stream",
     "text": [
      "\n"
     ]
    }
   ],
   "source": [
    "import scripts.create_camera_positions as src\n",
    "import argparse\n",
    "import sys\n",
    "import os\n",
    "\n",
    "os.system('rm -rf /root/desktop/test')\n",
    "\n",
    "sys.argv = sys.argv[:1]\n",
    "\n",
    "parser = argparse.ArgumentParser()\n",
    "parser.add_argument(\n",
    "        \"--path-in\",\n",
    "        default=\"/root/desktop/3D-FRONT/3D-FRONT-processed/bedrooms_without_lamps\",\n",
    "        help=\"Path to scenes with bounding boxes\"\n",
    "    )\n",
    "parser.add_argument(\n",
    "        \"--path-out\",\n",
    "        default=\"/root/desktop/test\",\n",
    "        help=\"Path to scenes with bounding boxes\"\n",
    "    )\n",
    "parser.add_argument(\n",
    "        \"--max-coords\",\n",
    "        default=[6.0, 4.0, 6.0],\n",
    "        help=\"Maximum xyz coordinate values\"\n",
    "    )\n",
    "parser.add_argument(\n",
    "        \"--num-samples-scene\",\n",
    "        default=40,\n",
    "        type=int,\n",
    "        help=\"Sample given number of different camera poses\"\n",
    "    )\n",
    "parser.add_argument(\n",
    "    \"--beds-only\",\n",
    "    action=\"store_true\",\n",
    "    help=\"Only render beds in the center\"\n",
    ")\n",
    "parser.add_argument(\n",
    "        \"--start-idx\",\n",
    "        default=0,\n",
    "        type=int\n",
    "    )\n",
    "parser.add_argument(\n",
    "        \"--end-idx\",\n",
    "        default=1,\n",
    "        type=int\n",
    "    )\n",
    "parser.add_argument(\n",
    "        \"--remove-classes\",\n",
    "        default=None,\n",
    "        type=str,\n",
    "        nargs='+'\n",
    "    )\n",
    "parser.add_argument(\n",
    "        \"--bed-size\",\n",
    "        default=1.0,\n",
    "        type=float\n",
    "    )\n",
    "args = parser.parse_args()\n",
    "src.main(args)"
   ]
  },
  {
   "cell_type": "code",
   "execution_count": 4,
   "metadata": {},
   "outputs": [
    {
     "data": {
      "text/plain": [
       "(1.0, 0.15425144988758405, -0.9524129804151563, -0.4480736161291701)"
      ]
     },
     "execution_count": 4,
     "metadata": {},
     "output_type": "execute_result"
    }
   ],
   "source": [
    "import numpy as np\n",
    "np.cos(0), np.cos(30), np.cos(60), np.cos(90)"
   ]
  },
  {
   "cell_type": "code",
   "execution_count": null,
   "metadata": {},
   "outputs": [
    {
     "name": "stdout",
     "output_type": "stream",
     "text": [
      "/root/desktop/3D-FRONT/3D-FRONT-processed/bedrooms_without_lamps ['00110bde-f580-40be-b8bb-88715b338a2a_Bedroom-43072', '0018b6c8-c3b6-4fb8-a640-4b9b0b763254_MasterBedroom-282636', '0023b7d1-1439-4e5c-9c7b-c34f155ee856_Bedroom-7177', '00321452-517d-431b-a21b-f52750684910_MasterBedroom-7594', '004f900c-468a-4f70-83cc-aa2c98875264_SecondBedroom-27399']\n",
      "{'class_labels': tensor([[0., 0., 0., 0., 0., 0., 0., 0., 0., 0., 0., 0., 0., 0., 0., 0., 0., 0.,\n",
      "         1., 0., 0.],\n",
      "        [0., 0., 0., 0., 0., 0., 0., 1., 0., 0., 0., 0., 0., 0., 0., 0., 0., 0.,\n",
      "         0., 0., 0.],\n",
      "        [0., 0., 0., 0., 0., 0., 0., 0., 0., 0., 0., 0., 0., 0., 0., 0., 1., 0.,\n",
      "         0., 0., 0.],\n",
      "        [0., 0., 1., 0., 0., 0., 0., 0., 0., 0., 0., 0., 0., 0., 0., 0., 0., 0.,\n",
      "         0., 0., 0.],\n",
      "        [0., 0., 0., 0., 0., 0., 0., 0., 0., 0., 0., 1., 0., 0., 0., 0., 0., 0.,\n",
      "         0., 0., 0.]], device='cuda:0'), 'translations': tensor([[ 0.0180, -0.1836,  0.2389],\n",
      "        [ 0.0736, -0.3820, -0.0358],\n",
      "        [ 0.0006, -0.4331, -0.2551],\n",
      "        [-0.2086, -0.3599, -0.0753],\n",
      "        [ 0.2324, -0.4375,  0.1227]], device='cuda:0'), 'sizes': tensor([[0.2252, 0.3164, 0.0405],\n",
      "        [0.1740, 0.1180, 0.1747],\n",
      "        [0.0263, 0.0669, 0.0354],\n",
      "        [0.0573, 0.1401, 0.0422],\n",
      "        [0.0397, 0.0625, 0.0327]], device='cuda:0'), 'angles': tensor([[ 0.0000],\n",
      "        [-1.5708],\n",
      "        [ 0.0000],\n",
      "        [ 1.5708],\n",
      "        [-1.5708]], device='cuda:0'), 'room_layout': tensor([[[0., 0., 0.,  ..., 0., 0., 0.],\n",
      "         [0., 0., 0.,  ..., 0., 0., 0.],\n",
      "         [0., 0., 0.,  ..., 0., 0., 0.],\n",
      "         ...,\n",
      "         [0., 0., 0.,  ..., 0., 0., 0.],\n",
      "         [0., 0., 0.,  ..., 0., 0., 0.],\n",
      "         [0., 0., 0.,  ..., 0., 0., 0.]]], device='cuda:0'), 'floor_plan_centroid': tensor([2.3285, 0.0000, 1.0122], device='cuda:0', dtype=torch.float64)}\n"
     ]
    },
    {
     "data": {
      "text/plain": [
       "tensor([18,  7, 16,  2, 11], device='cuda:0')"
      ]
     },
     "execution_count": 13,
     "metadata": {},
     "output_type": "execute_result"
    }
   ],
   "source": [
    "import torch\n",
    "import os\n",
    "path_in=\"/root/desktop/tmp/3D-FRONT-processed/bedrooms_without_lamps_full_labels_vertices\"\n",
    "# path_in='/root/desktop/3D-FRONT/3D-FRONT-processed/bedrooms_without_lamps'\n",
    "scenes = sorted(os.listdir(path_in))[args.start_idx:5]\n",
    "print(path_in, scenes)\n",
    "label = src.load_labels(os.path.join(path_in, scenes[0], 'boxes.npz'), args.max_coords, beds_only=args.beds_only)\n",
    "print(label)\n",
    "torch.argmax(label['class_labels'], dim=1)"
   ]
  },
  {
   "cell_type": "code",
   "execution_count": 10,
   "metadata": {},
   "outputs": [
    {
     "name": "stdout",
     "output_type": "stream",
     "text": [
      "[6.0, 4.0, 6.0] 128 138 10 2\n",
      "wardrobe\n",
      "[6.0, 4.0, 6.0] 131 126 8 8\n",
      "double_bed\n",
      "[6.0, 4.0, 6.0] 128 117 2 2\n",
      "table\n",
      "[6.0, 4.0, 6.0] 119 124 3 2\n",
      "cabinet\n",
      "[6.0, 4.0, 6.0] 137 133 2 2\n",
      "night_stand\n"
     ]
    },
    {
     "name": "stderr",
     "output_type": "stream",
     "text": [
      "/tmp/ipykernel_91954/3182525694.py:24: UserWarning: __floordiv__ is deprecated, and its behavior will change in a future version of pytorch. It currently rounds toward 0 (like the 'trunc' function NOT 'floor'). This results in incorrect rounding for negative values. To keep the current behavior, use torch.div(a, b, rounding_mode='trunc'), or for actual floor division, use torch.div(a, b, rounding_mode='floor').\n",
      "  index = int((coord - min_val) // voxel_size)\n"
     ]
    },
    {
     "data": {
      "image/png": "[encoded data removed]",
      "text/plain": [
       "<Figure size 640x480 with 1 Axes>"
      ]
     },
     "metadata": {},
     "output_type": "display_data"
    },
    {
     "data": {
      "image/png": "[encoded data removed]",
      "text/plain": [
       "<Figure size 640x480 with 1 Axes>"
      ]
     },
     "metadata": {},
     "output_type": "display_data"
    },
    {
     "name": "stdout",
     "output_type": "stream",
     "text": [
      "21\n"
     ]
    },
    {
     "data": {
      "text/plain": [
       "128"
      ]
     },
     "execution_count": 10,
     "metadata": {},
     "output_type": "execute_result"
    }
   ],
   "source": [
    "import numpy as np\n",
    "import matplotlib.pyplot as plt\n",
    "\n",
    "CLASSES_3DFRONT_WITHOUT_LAMPS = {\n",
    "    0: 'armchair', 1: 'bookshelf', 2: 'cabinet', 3: 'chair', 4: 'children_cabinet', 5: 'coffee_table',\n",
    "    6: 'desk', 7: 'double_bed', 8: 'dressing_chair', 9: 'dressing_table', 10: 'kids_bed', 11: 'night_stand',\n",
    "    12: 'shelf', 13: 'single_bed', 14: 'sofa', 15: 'stool', 16: 'table', 17: 'tv_stand', 18: 'wardrobe',\n",
    "    19: 'start', 20: 'end'\n",
    "}\n",
    "\n",
    "room = np.zeros((256, 256))\n",
    "\n",
    "def get_voxel_index(coord, min_val, max_val, n):\n",
    "    \"\"\"\n",
    "    - coord: 변환할 좌표 값\n",
    "    - min_val: 범위의 최소값\n",
    "    - max_val: 범위의 최대값\n",
    "    - n: 복셀의 개수\n",
    "    \"\"\"\n",
    "    # 각 복셀의 크기 계산\n",
    "    voxel_size = (max_val - min_val) / n\n",
    "    \n",
    "    # 좌표를 복셀 인덱스로 변환\n",
    "    index = int((coord - min_val) // voxel_size)\n",
    "    \n",
    "    # 인덱스가 범위를 벗어날 경우 처리 (0과 n-1 사이로 제한)\n",
    "    index = np.clip(index, 0, n - 1)\n",
    "    \n",
    "    return index\n",
    "\n",
    "for i in range(len(label['angles'])):\n",
    "    # room = np.zeros((256, 256))\n",
    "    center = label['translations'][i]\n",
    "    size = label['sizes'][i]\n",
    "    x = get_voxel_index(center[0], -args.max_coords[0] / 2, args.max_coords[0] / 2, 256)\n",
    "    z = get_voxel_index(center[2], -args.max_coords[2] / 2, args.max_coords[2] / 2, 256)\n",
    "    x_size = np.ceil(size[0].item() / (6 / 256)).astype(int)\n",
    "    z_size = np.ceil(size[2].item() / (6 / 256)).astype(int)\n",
    "    print(args.max_coords, x, z, x_size, z_size)\n",
    "    room[x - x_size : x + x_size, z - z_size : z + z_size] = i + 1 / len(label['angles']) + 1\n",
    "\n",
    "    print(CLASSES_3DFRONT_WITHOUT_LAMPS[torch.argmax(label['class_labels'][i]).item()])\n",
    "plt.imshow(room)\n",
    "plt.show()\n",
    "\n",
    "plt.imshow(label['room_layout'].squeeze().cpu())\n",
    "plt.show()\n",
    "print(label['class_labels'].shape[-1])\n",
    "get_voxel_index(0, -3, 3, 256)"
   ]
  },
  {
   "cell_type": "code",
   "execution_count": null,
   "metadata": {},
   "outputs": [],
   "source": []
  }
 ],
 "metadata": {
  "kernelspec": {
   "display_name": "3dgs-gen",
   "language": "python",
   "name": "python3"
  },
  "language_info": {
   "codemirror_mode": {
    "name": "ipython",
    "version": 3
   },
   "file_extension": ".py",
   "mimetype": "text/x-python",
   "name": "python",
   "nbconvert_exporter": "python",
   "pygments_lexer": "ipython3",
   "version": "3.8.19"
  }
 },
 "nbformat": 4,
 "nbformat_minor": 2
}
